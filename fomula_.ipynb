{
  "nbformat": 4,
  "nbformat_minor": 0,
  "metadata": {
    "colab": {
      "provenance": []
    },
    "kernelspec": {
      "name": "python3",
      "display_name": "Python 3"
    },
    "language_info": {
      "name": "python"
    }
  },
  "cells": [
    {
      "cell_type": "code",
      "execution_count": 1,
      "metadata": {
        "colab": {
          "base_uri": "https://localhost:8080/"
        },
        "id": "-X0WZ1A5g9m8",
        "outputId": "c5b58fa7-1fc6-4997-c9a9-c56cab3b636c"
      },
      "outputs": [
        {
          "output_type": "stream",
          "name": "stdout",
          "text": [
            "Equation 1: Initial velocity = 0 m/s\n",
            "Equation 2: Velocity after 1s = 0 + 2 * 1 = 2 m/s\n",
            "Equation 3: Velocity after 5s = 0 + 2 * 5 = 10 m/s\n",
            "Equation 4: Final velocity = 0 + 2 * 20 = 40 m/s\n",
            "Equation 5: Average velocity = (0 + 40) / 2 = 20.0 m/s\n",
            "Equation 6: Distance traveled = 20.0 * 20 = 400.0 meters\n",
            "Equation 7: Distance traveled with constant velocity = 40 * 20 = 800 meters\n",
            "Equation 8: Velocity = 100 / 20 = 5.0 m/s\n",
            "Equation 9: The calculated velocity from distance/time does not match the final velocity.\n",
            "Equation 10 (Final Formula): Velocity = Distance / Time = 100 / 20 = 5.0 m/s\n"
          ]
        }
      ],
      "source": [
        "# Define initial variables\n",
        "distance_m = 100  # D in m\n",
        "time_s = 20       # T in s\n",
        "acceleration_mps2 = 2  # A in (m/s^2)\n",
        "\n",
        "#  initial velocity (assuming it starts from rest)\n",
        "initial_velocity = 0  # m/s\n",
        "print(f\"Equation 1: Initial velocity = 0 m/s\")\n",
        "\n",
        "# velocity after 1 second\n",
        "velocity_after_1s = initial_velocity + acceleration_mps2 * 1  # v = u + at, with t = 1 second\n",
        "print(f\"Equation 2: Velocity after 1s = 0 + {acceleration_mps2} * 1 = {velocity_after_1s} m/s\")\n",
        "\n",
        "# Step 3:Calculate the velocity after 5 seconds\n",
        "velocity_after_5s = initial_velocity + acceleration_mps2 * 5  # v = u + at, with t = 5 seconds\n",
        "print(f\"Equation 3: Velocity after 5s = 0 + {acceleration_mps2} * 5 = {velocity_after_5s} m/s\")\n",
        "\n",
        "# final velocity\n",
        "final_velocity = initial_velocity + acceleration_mps2 * time_s\n",
        "print(f\"Equation 4: Final velocity = {initial_velocity} + {acceleration_mps2} * {time_s} = {final_velocity} m/s\")\n",
        "\n",
        "# average velocity\n",
        "average_velocity = (initial_velocity + final_velocity) / 2\n",
        "print(f\"Equation 5: Average velocity = ({initial_velocity} + {final_velocity}) / 2 = {average_velocity} m/s\")\n",
        "\n",
        "# distance traveled\n",
        "distance_travelled = average_velocity * time_s\n",
        "print(f\"Equation 6: Distance traveled = {average_velocity} * {time_s} = {distance_travelled} meters\")\n",
        "\n",
        "# If velocity is constant, find the distance traveled (d = v * t)\n",
        "constant_velocity_distance = final_velocity * time_s\n",
        "print(f\"Equation 7: Distance traveled with constant velocity = {final_velocity} * {time_s} = {constant_velocity_distance} meters\")\n",
        "\n",
        "# velocity from the given distance and time (v = d / t)\n",
        "velocity_from_distance_time = distance_m / time_s\n",
        "print(f\"Equation 8: Velocity = {distance_m} / {time_s} = {velocity_from_distance_time} m/s\")\n",
        "\n",
        "# Step 9: Check if the calculated velocity from distance and time equals the final velocity\n",
        "if velocity_from_distance_time == final_velocity:\n",
        "    print(f\"Equation 9: The calculated velocity from distance/time ({velocity_from_distance_time} m/s) matches the final velocity ({final_velocity} m/s).\")\n",
        "else:\n",
        "    print(f\"Equation 9: The calculated velocity from distance/time does not match the final velocity.\")\n",
        "\n",
        "# Step 10: Final Formula for velocity (v = d / t)\n",
        "print(f\"Equation 10 (Final Formula): Velocity = Distance / Time = {distance_m} / {time_s} = {velocity_from_distance_time} m/s\")\n"
      ]
    }
  ]
}